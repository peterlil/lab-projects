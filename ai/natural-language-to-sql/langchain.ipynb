{
 "cells": [
  {
   "cell_type": "code",
   "execution_count": null,
   "metadata": {},
   "outputs": [],
   "source": [
    "# Install the requirements\n",
    "pip install -r requirements.txt"
   ]
  },
  {
   "cell_type": "code",
   "execution_count": 21,
   "metadata": {},
   "outputs": [],
   "source": [
    "import openai\n",
    "from langchain_openai import AzureChatOpenAI\n",
    "from langchain.sql_database import SQLDatabase\n",
    "from langchain.agents import create_sql_agent\n",
    "from sqlalchemy import create_engine\n",
    "import urllib\n"
   ]
  },
  {
   "cell_type": "code",
   "execution_count": 22,
   "metadata": {},
   "outputs": [],
   "source": [
    "# Set up your OpenAI API key\n",
    "# api_key = 'fe1a8d2af7bb4ec984fbe47a13081bcb' # swec\n",
    "# api_endpoint = 'https://peterlil-openai.openai.azure.com/'\n",
    "api_key = '80e61c36e95a4fe298c80b2a65a518af' # eus\n",
    "api_endpoint = 'https://peterlil-openai-eus.openai.azure.com/'\n",
    "open_ai_api_version = '2024-06-01'"
   ]
  },
  {
   "cell_type": "code",
   "execution_count": 23,
   "metadata": {},
   "outputs": [],
   "source": [
    "# Define your Azure SQL Database connection string\n",
    "params = urllib.parse.quote_plus(\n",
    "    \"DRIVER={ODBC Driver 17 for SQL Server};\"\n",
    "    \"SERVER=tcp:peterlilopenaisqlsrv.database.windows.net,1433;\"\n",
    "    \"DATABASE=testdb;\"\n",
    "    \"UID=peterlil;\"\n",
    "    \"PWD=@1hkKBEYlQhaFGrV;\"\n",
    "    \"Encrypt=yes;\"\n",
    "    \"TrustServerCertificate=no;\"\n",
    ")\n",
    "\n",
    "# Create a SQLAlchemy engine\n",
    "sql_engine = create_engine(f\"mssql+pyodbc:///?odbc_connect={params}\")\n"
   ]
  },
  {
   "cell_type": "code",
   "execution_count": 24,
   "metadata": {},
   "outputs": [],
   "source": [
    "\n",
    "# Initialize the AzureOpenAI object with Azure-specific parameters\n",
    "llm = AzureChatOpenAI(model='gpt-4o',\n",
    "                      deployment_name='gpt-4o',\n",
    "                      azure_endpoint=api_endpoint,\n",
    "                      api_key=api_key,\n",
    "                      api_version=open_ai_api_version,\n",
    "                      temperature=0)"
   ]
  },
  {
   "cell_type": "code",
   "execution_count": 25,
   "metadata": {},
   "outputs": [
    {
     "name": "stdout",
     "output_type": "stream",
     "text": [
      "mssql+pyodbc:///?odbc_connect=DRIVER%3D%7BODBC+Driver+17+for+SQL+Server%7D%3BSERVER%3Dtcp%3Apeterlilopenaisqlsrv.database.windows.net%2C1433%3BDATABASE%3Dtestdb%3BUID%3Dpeterlil%3BPWD%3D%401hkKBEYlQhaFGrV%3BEncrypt%3Dyes%3BTrustServerCertificate%3Dno%3B\n"
     ]
    }
   ],
   "source": [
    "# print(sql_engine.url)\n",
    "connection_string = str(sql_engine.url)\n",
    "\n",
    "# Create a new SQLDatabase instance using the connection string\n",
    "sql_database = SQLDatabase.from_uri(connection_string)\n",
    " \n"
   ]
  },
  {
   "cell_type": "code",
   "execution_count": 26,
   "metadata": {},
   "outputs": [],
   "source": [
    "# Create the SQL agent\n",
    "agent = create_sql_agent(llm=llm, db=sql_database)"
   ]
  },
  {
   "cell_type": "code",
   "execution_count": 35,
   "metadata": {},
   "outputs": [],
   "source": [
    "# Define your natural language query\n",
    "# natural_language_query = \"List all the tables in the schema SalesLT.\"\n",
    "natural_language_query = \"List the first and last names of 10 customers.\"\n",
    "# natural_language_query = \"Show me the last 10 orders.\"\n",
    "# natural_language_query = \"Show me all customers who placed a sales order in the last recorded month.\""
   ]
  },
  {
   "cell_type": "code",
   "execution_count": 36,
   "metadata": {},
   "outputs": [
    {
     "name": "stdout",
     "output_type": "stream",
     "text": [
      "{'input': 'List the first and last names of 10 customers.', 'output': 'The first and last names of 10 customers are:\\n1. Orlando Gee\\n2. Keith Harris\\n3. Donna Carreras\\n4. Janet Gates\\n5. Lucy Harrington\\n6. Rosmarie Carroll\\n7. Dominic Gash\\n8. Kathleen Garza\\n9. Katherine Harding\\n10. Johnny Caprio'}\n"
     ]
    }
   ],
   "source": [
    "# Generate the SQL query\n",
    "sql_query = agent.invoke(natural_language_query)\n",
    "print(sql_query)"
   ]
  }
 ],
 "metadata": {
  "kernelspec": {
   "display_name": "Python 3",
   "language": "python",
   "name": "python3"
  },
  "language_info": {
   "codemirror_mode": {
    "name": "ipython",
    "version": 3
   },
   "file_extension": ".py",
   "mimetype": "text/x-python",
   "name": "python",
   "nbconvert_exporter": "python",
   "pygments_lexer": "ipython3",
   "version": "3.11.9"
  }
 },
 "nbformat": 4,
 "nbformat_minor": 2
}
